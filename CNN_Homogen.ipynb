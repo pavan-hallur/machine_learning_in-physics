{
  "cells": [
    {
      "cell_type": "code",
      "execution_count": null,
      "metadata": {
        "colab": {
          "base_uri": "https://localhost:8080/"
        },
        "id": "q3qfVvZ7dmgG",
        "outputId": "43e729e5-15fa-4656-b4fc-33867ead4425"
      },
      "outputs": [
        {
          "output_type": "stream",
          "name": "stdout",
          "text": [
            "2.7.0\n"
          ]
        }
      ],
      "source": [
        "\"\"\"Authors:Alexander Henkes & Pavan Ramesh Hallur, CNN for homogenization\"\"\"\n",
        "import tensorflow as tf\n",
        "import matplotlib.pyplot as plt\n",
        "\n",
        "print(tf.__version__)"
      ]
    },
    {
      "cell_type": "code",
      "source": [
        "tf.keras.backend.clear_session()\n",
        "tf.config.optimizer.set_jit(True)"
      ],
      "metadata": {
        "id": "_fg9EtkmKbO6"
      },
      "execution_count": null,
      "outputs": []
    },
    {
      "cell_type": "code",
      "source": [
        "SAMPLES = int(1e6)\n",
        "VAL_SPLIT = 0.5\n",
        "BATCH = int(2 ** 14)\n",
        "EPOCHS = int(1e4)\n",
        "SIZE = 32\n",
        "LR = 1e-3"
      ],
      "metadata": {
        "id": "Va2oyl4mxSti"
      },
      "execution_count": null,
      "outputs": []
    },
    {
      "cell_type": "code",
      "execution_count": null,
      "metadata": {
        "id": "kiSfeNBCiT6Y"
      },
      "outputs": [],
      "source": [
        "def generate_microstructure(samples=100, size=10):\n",
        "    \"\"\"Generate 1D heterogeneous microstructures.\"\"\"\n",
        "    microstructures = tf.random.uniform(shape=[samples, size],\n",
        "                                        minval=0,\n",
        "                                        maxval=2,\n",
        "                                        dtype=\"int32\")\n",
        "\n",
        "    microstructures = tf.cast(microstructures, tf.float32)\n",
        "    return microstructures"
      ]
    },
    {
      "cell_type": "code",
      "source": [
        ""
      ],
      "metadata": {
        "colab": {
          "base_uri": "https://localhost:8080/"
        },
        "id": "3gSpxm43NLay",
        "outputId": "dc0d01ff-a70d-4bce-a872-9b8b269ac9d2"
      },
      "execution_count": null,
      "outputs": [
        {
          "output_type": "execute_result",
          "data": {
            "text/plain": [
              "<tf.Tensor: shape=(5, 1), dtype=float32, numpy=\n",
              "array([[61.414562],\n",
              "       [84.82027 ],\n",
              "       [55.324577],\n",
              "       [26.729357],\n",
              "       [29.297209]], dtype=float32)>"
            ]
          },
          "metadata": {},
          "execution_count": 28
        }
      ]
    },
    {
      "cell_type": "code",
      "source": [
        "def temp(x):\n",
        "    y = x ** 2 + 3\n",
        "    return y"
      ],
      "metadata": {
        "id": "Ab-nJx1PNaTZ"
      },
      "execution_count": null,
      "outputs": []
    },
    {
      "cell_type": "code",
      "source": [
        "x"
      ],
      "metadata": {
        "colab": {
          "base_uri": "https://localhost:8080/"
        },
        "id": "ZmRDsmAoNk9T",
        "outputId": "15e224f7-b631-4359-8bbb-083f09dcd2ed"
      },
      "execution_count": null,
      "outputs": [
        {
          "output_type": "execute_result",
          "data": {
            "text/plain": [
              "<tf.Tensor: shape=(5, 1), dtype=float32, numpy=\n",
              "array([[98.24475  ],\n",
              "       [ 4.1693926],\n",
              "       [20.401001 ],\n",
              "       [86.175606 ],\n",
              "       [80.707695 ]], dtype=float32)>"
            ]
          },
          "metadata": {},
          "execution_count": 30
        }
      ]
    },
    {
      "cell_type": "code",
      "source": [
        "y = temp(x)\n",
        "y"
      ],
      "metadata": {
        "colab": {
          "base_uri": "https://localhost:8080/"
        },
        "id": "Pht3VXq9NpVL",
        "outputId": "e648c7ee-cfb2-45ba-bc1b-48ffce6ab2ed"
      },
      "execution_count": null,
      "outputs": [
        {
          "output_type": "execute_result",
          "data": {
            "text/plain": [
              "<tf.Tensor: shape=(5, 1), dtype=float32, numpy=\n",
              "array([[9655.032   ],\n",
              "       [  20.383835],\n",
              "       [ 419.20084 ],\n",
              "       [7429.235   ],\n",
              "       [6516.732   ]], dtype=float32)>"
            ]
          },
          "metadata": {},
          "execution_count": 32
        }
      ]
    },
    {
      "cell_type": "code",
      "source": [
        "def dataset(samples):\n",
        "    x = tf.random.uniform(shape=[samples,1],\n",
        "                    minval=0.0,\n",
        "                    maxval=100.0,\n",
        "                    dtype='float32')\n",
        "    return x, temp(x)"
      ],
      "metadata": {
        "id": "Ka7daXi8Nysx"
      },
      "execution_count": null,
      "outputs": []
    },
    {
      "cell_type": "code",
      "source": [
        "training_set = dataset(10)\n",
        "training_set[1]"
      ],
      "metadata": {
        "colab": {
          "base_uri": "https://localhost:8080/"
        },
        "id": "rd5x0kR9N_T2",
        "outputId": "e5409649-4e71-467f-96db-9560b9ddfaf1"
      },
      "execution_count": null,
      "outputs": [
        {
          "output_type": "execute_result",
          "data": {
            "text/plain": [
              "<tf.Tensor: shape=(10, 1), dtype=float32, numpy=\n",
              "array([[ 380.90924 ],\n",
              "       [5307.827   ],\n",
              "       [5642.3325  ],\n",
              "       [  10.532978],\n",
              "       [ 563.27423 ],\n",
              "       [9629.372   ],\n",
              "       [6834.036   ],\n",
              "       [1259.9633  ],\n",
              "       [ 124.45365 ],\n",
              "       [ 390.85065 ]], dtype=float32)>"
            ]
          },
          "metadata": {},
          "execution_count": 37
        }
      ]
    },
    {
      "cell_type": "code",
      "source": [
        "test_set = dataset(5)\n",
        "test_set\n"
      ],
      "metadata": {
        "colab": {
          "base_uri": "https://localhost:8080/"
        },
        "id": "SIXDwEKjOFa4",
        "outputId": "b49a972c-cfbc-4713-d024-776758db660f"
      },
      "execution_count": null,
      "outputs": [
        {
          "output_type": "execute_result",
          "data": {
            "text/plain": [
              "(<tf.Tensor: shape=(5, 1), dtype=float32, numpy=\n",
              " array([[31.00332 ],\n",
              "        [72.44651 ],\n",
              "        [19.796955],\n",
              "        [62.905396],\n",
              "        [72.756386]], dtype=float32)>,\n",
              " <tf.Tensor: shape=(5, 1), dtype=float32, numpy=\n",
              " array([[ 964.2059 ],\n",
              "        [5251.497  ],\n",
              "        [ 394.91943],\n",
              "        [3960.0886 ],\n",
              "        [5296.4917 ]], dtype=float32)>)"
            ]
          },
          "metadata": {},
          "execution_count": 35
        }
      ]
    },
    {
      "cell_type": "code",
      "execution_count": null,
      "metadata": {
        "id": "q3fUkSIrs115"
      },
      "outputs": [],
      "source": [
        "def youngs_modulus(microstructure):\n",
        "  x = microstructure.numpy()\n",
        "  x[x>0.5] = 5000\n",
        "  x[x<0.5] = 1000\n",
        "  youngs_modulus = tf.convert_to_tensor(x, dtype=\"float32\")\n",
        "  return youngs_modulus\n"
      ]
    },
    {
      "cell_type": "code",
      "execution_count": null,
      "metadata": {
        "id": "9OOwyeLvltjk"
      },
      "outputs": [],
      "source": [
        "def effective_youngs_modulus(youngs_modulus, microstructure):\n",
        "  vf = tf.reduce_mean(microstructure, axis=1)\n",
        "  E_f = tf.reduce_max(youngs_modulus)\n",
        "  E_m = tf.reduce_min(youngs_modulus)\n",
        "  E_c = 1.0 / ((vf / E_f) + ((1.0 - vf) / E_m))\n",
        "  E_c = tf.expand_dims(E_c, axis=1)\n",
        "  return E_c"
      ]
    },
    {
      "cell_type": "code",
      "source": [
        "microstructure = generate_microstructure(samples=SAMPLES, size=SIZE)\n",
        "microstructure.shape"
      ],
      "metadata": {
        "colab": {
          "base_uri": "https://localhost:8080/"
        },
        "id": "O8SzBc7jq-ql",
        "outputId": "d9073df0-7d7f-4225-835b-c980620671b2"
      },
      "execution_count": null,
      "outputs": [
        {
          "output_type": "execute_result",
          "data": {
            "text/plain": [
              "TensorShape([1000000, 32])"
            ]
          },
          "metadata": {},
          "execution_count": 7
        }
      ]
    },
    {
      "cell_type": "code",
      "source": [
        "youngs = youngs_modulus(microstructure=microstructure)\n",
        "youngs.shape"
      ],
      "metadata": {
        "colab": {
          "base_uri": "https://localhost:8080/"
        },
        "id": "VTIGseYnrIFK",
        "outputId": "04544ae7-ffb7-48b8-c886-83f72a2713c7"
      },
      "execution_count": null,
      "outputs": [
        {
          "output_type": "execute_result",
          "data": {
            "text/plain": [
              "TensorShape([1000000, 32])"
            ]
          },
          "metadata": {},
          "execution_count": 8
        }
      ]
    },
    {
      "cell_type": "code",
      "execution_count": null,
      "metadata": {
        "id": "dfvHvpBljA5y",
        "colab": {
          "base_uri": "https://localhost:8080/"
        },
        "outputId": "e67113fb-80d2-4585-cf79-bb58bc1a8bb7"
      },
      "outputs": [
        {
          "output_type": "execute_result",
          "data": {
            "text/plain": [
              "TensorShape([1000000, 1])"
            ]
          },
          "metadata": {},
          "execution_count": 9
        }
      ],
      "source": [
        "effective_youngs = effective_youngs_modulus(youngs_modulus=youngs, \n",
        "                                            microstructure=microstructure)\n",
        "effective_youngs.shape"
      ]
    },
    {
      "cell_type": "code",
      "execution_count": null,
      "metadata": {
        "colab": {
          "base_uri": "https://localhost:8080/",
          "height": 374
        },
        "id": "bnx95K38C9U0",
        "outputId": "13635006-0897-4e36-afbd-2bdb76dcfe14"
      },
      "outputs": [
        {
          "output_type": "execute_result",
          "data": {
            "text/plain": [
              "(array([2.52240e+04, 2.72994e+05, 5.13670e+05, 1.33194e+05, 5.15310e+04,\n",
              "        2.35400e+03, 9.77000e+02, 5.10000e+01, 4.00000e+00, 1.00000e+00]),\n",
              " array([1081.081 , 1336.6094, 1592.1376, 1847.6659, 2103.194 , 2358.7224,\n",
              "        2614.2507, 2869.779 , 3125.3071, 3380.8354, 3636.3638],\n",
              "       dtype=float32),\n",
              " <a list of 10 Patch objects>)"
            ]
          },
          "metadata": {},
          "execution_count": 10
        },
        {
          "output_type": "display_data",
          "data": {
            "image/png": "[encoded data removed]",
            "text/plain": [
              "<Figure size 432x288 with 1 Axes>"
            ]
          },
          "metadata": {
            "needs_background": "light"
          }
        }
      ],
      "source": [
        "plt.hist(x=effective_youngs[:, 0])"
      ]
    },
    {
      "cell_type": "code",
      "execution_count": null,
      "metadata": {
        "id": "vlJ7cXay36H2",
        "colab": {
          "base_uri": "https://localhost:8080/"
        },
        "outputId": "32f71650-26db-40f9-a31e-6b1de229e838"
      },
      "outputs": [
        {
          "output_type": "stream",
          "name": "stdout",
          "text": [
            "Model: \"sequential\"\n",
            "____________________________________________________________________________________________________\n",
            " Layer (type)                                Output Shape                            Param #        \n",
            "====================================================================================================\n",
            " conv1d (Conv1D)                             (None, 32, 8)                           32             \n",
            "                                                                                                    \n",
            " conv1d_1 (Conv1D)                           (None, 32, 8)                           200            \n",
            "                                                                                                    \n",
            " max_pooling1d (MaxPooling1D)                (None, 16, 8)                           0              \n",
            "                                                                                                    \n",
            " conv1d_2 (Conv1D)                           (None, 16, 16)                          400            \n",
            "                                                                                                    \n",
            " conv1d_3 (Conv1D)                           (None, 16, 16)                          784            \n",
            "                                                                                                    \n",
            " max_pooling1d_1 (MaxPooling1D)              (None, 8, 16)                           0              \n",
            "                                                                                                    \n",
            " conv1d_4 (Conv1D)                           (None, 8, 24)                           1176           \n",
            "                                                                                                    \n",
            " conv1d_5 (Conv1D)                           (None, 8, 24)                           1752           \n",
            "                                                                                                    \n",
            " max_pooling1d_2 (MaxPooling1D)              (None, 4, 24)                           0              \n",
            "                                                                                                    \n",
            " conv1d_6 (Conv1D)                           (None, 4, 32)                           2336           \n",
            "                                                                                                    \n",
            " conv1d_7 (Conv1D)                           (None, 4, 32)                           3104           \n",
            "                                                                                                    \n",
            " max_pooling1d_3 (MaxPooling1D)              (None, 2, 32)                           0              \n",
            "                                                                                                    \n",
            " global_max_pooling1d (GlobalMaxPooling1D)   (None, 32)                              0              \n",
            "                                                                                                    \n",
            " reshape (Reshape)                           (None, 32)                              0              \n",
            "                                                                                                    \n",
            " dense (Dense)                               (None, 1)                               33             \n",
            "                                                                                                    \n",
            "====================================================================================================\n",
            "Total params: 9,817\n",
            "Trainable params: 9,817\n",
            "Non-trainable params: 0\n",
            "____________________________________________________________________________________________________\n"
          ]
        }
      ],
      "source": [
        "INITIALIZER = 'orthogonal'\n",
        "model = tf.keras.Sequential()\n",
        "\n",
        "# for hidden in range(1):\n",
        "model.add(tf.keras.layers.InputLayer(input_shape=[SIZE, 1]))\n",
        "\n",
        "for hidden in range(4):\n",
        "    model.add(tf.keras.layers.Conv1D(filters=8 * (hidden + 1), \n",
        "                                    kernel_size=3, \n",
        "                                    strides=1, \n",
        "                                    padding='same',\n",
        "                                    kernel_initializer=INITIALIZER,\n",
        "                                    activation='relu'))\n",
        "    \n",
        "    model.add(tf.keras.layers.Conv1D(filters=8 * (hidden + 1), \n",
        "                                    kernel_size=3, \n",
        "                                    strides=1, \n",
        "                                    padding='same',\n",
        "                                    kernel_initializer=INITIALIZER,\n",
        "                                    activation='relu'))\n",
        "\n",
        "    model.add(tf.keras.layers.MaxPooling1D(pool_size=2))\n",
        "\n",
        "model.add(tf.keras.layers.GlobalMaxPool1D())\n",
        "\n",
        "model.add(tf.keras.layers.Reshape([-1]))\n",
        "\n",
        "model.add(tf.keras.layers.Dense(units=1, activation='linear'))\n",
        "\n",
        "\n",
        "model.compile(optimizer=tf.keras.optimizers.Nadam(LR), loss='logcosh')\n",
        "model.summary(100)"
      ]
    },
    {
      "cell_type": "code",
      "execution_count": null,
      "metadata": {
        "id": "YqqnZmrB7DxW",
        "colab": {
          "base_uri": "https://localhost:8080/"
        },
        "outputId": "27b3686c-58f7-4c53-a283-a3b86fe98221"
      },
      "outputs": [
        {
          "output_type": "execute_result",
          "data": {
            "text/plain": [
              "TensorShape([1000000, 32, 1])"
            ]
          },
          "metadata": {},
          "execution_count": 12
        }
      ],
      "source": [
        "extended_microstructure = tf.expand_dims(microstructure, axis=2)\n",
        "extended_microstructure.shape"
      ]
    },
    {
      "cell_type": "code",
      "source": [
        "scaler = tf.constant(0.5, tf.float32)\n",
        "extended_microstructure = (extended_microstructure - scaler) / scaler"
      ],
      "metadata": {
        "id": "cpjvQ0yd6h49"
      },
      "execution_count": null,
      "outputs": []
    },
    {
      "cell_type": "code",
      "source": [
        "print(tf.reduce_max(effective_youngs))\n",
        "print(tf.reduce_min(effective_youngs))"
      ],
      "metadata": {
        "colab": {
          "base_uri": "https://localhost:8080/"
        },
        "id": "e4uDQzTG7cH8",
        "outputId": "7bacb496-52c2-4fdd-cebd-6d339b0f875a"
      },
      "execution_count": null,
      "outputs": [
        {
          "output_type": "stream",
          "name": "stdout",
          "text": [
            "tf.Tensor(3636.3638, shape=(), dtype=float32)\n",
            "tf.Tensor(1081.081, shape=(), dtype=float32)\n"
          ]
        }
      ]
    },
    {
      "cell_type": "code",
      "source": [
        "scaler = (tf.reduce_max(effective_youngs) + tf.reduce_min(effective_youngs)) / 2.0\n",
        "effective_youngs = (effective_youngs - scaler) / scaler"
      ],
      "metadata": {
        "id": "_fpZzLZG64gN"
      },
      "execution_count": null,
      "outputs": []
    },
    {
      "cell_type": "code",
      "source": [
        "print(tf.reduce_max(effective_youngs))\n",
        "print(tf.reduce_min(effective_youngs))"
      ],
      "metadata": {
        "colab": {
          "base_uri": "https://localhost:8080/"
        },
        "id": "G-2GbmZ77M20",
        "outputId": "e61166ab-1cf0-4ac3-b5e1-b6bfe1be9b96"
      },
      "execution_count": null,
      "outputs": [
        {
          "output_type": "stream",
          "name": "stdout",
          "text": [
            "tf.Tensor(0.5416667, shape=(), dtype=float32)\n",
            "tf.Tensor(-0.5416667, shape=(), dtype=float32)\n"
          ]
        }
      ]
    },
    {
      "cell_type": "code",
      "source": [
        "callback = tf.keras.callbacks.EarlyStopping(\n",
        "    monitor='val_loss', min_delta=0, patience=20, verbose=1,\n",
        "    mode='auto', baseline=None, restore_best_weights=True\n",
        ")"
      ],
      "metadata": {
        "id": "p9kOuL4wPrvA"
      },
      "execution_count": null,
      "outputs": []
    },
    {
      "cell_type": "code",
      "execution_count": null,
      "metadata": {
        "colab": {
          "base_uri": "https://localhost:8080/"
        },
        "id": "9tgiJH9V7_Gl",
        "outputId": "5d6f1fac-9627-4e93-9a8d-6662ef729bd6"
      },
      "outputs": [
        {
          "output_type": "stream",
          "name": "stdout",
          "text": [
            "Epoch 1/10000\n",
            "31/31 [==============================] - 20s 138ms/step - loss: 0.0041 - val_loss: 0.0012\n",
            "Epoch 2/10000\n",
            "31/31 [==============================] - 5s 168ms/step - loss: 0.0011 - val_loss: 7.0087e-04\n",
            "Epoch 3/10000\n",
            "31/31 [==============================] - 2s 51ms/step - loss: 8.1856e-04 - val_loss: 7.2275e-04\n",
            "Epoch 4/10000\n",
            "31/31 [==============================] - 1s 47ms/step - loss: 6.1136e-04 - val_loss: 6.1189e-04\n",
            "Epoch 5/10000\n",
            "31/31 [==============================] - 2s 51ms/step - loss: 5.2410e-04 - val_loss: 4.7005e-04\n",
            "Epoch 6/10000\n",
            "31/31 [==============================] - 1s 48ms/step - loss: 4.6994e-04 - val_loss: 4.2190e-04\n",
            "Epoch 7/10000\n",
            "31/31 [==============================] - 2s 51ms/step - loss: 4.0708e-04 - val_loss: 3.8081e-04\n",
            "Epoch 8/10000\n",
            "31/31 [==============================] - 1s 48ms/step - loss: 3.9204e-04 - val_loss: 3.6698e-04\n",
            "Epoch 9/10000\n",
            "31/31 [==============================] - 2s 51ms/step - loss: 3.4207e-04 - val_loss: 3.3371e-04\n",
            "Epoch 10/10000\n",
            "31/31 [==============================] - 1s 48ms/step - loss: 3.1794e-04 - val_loss: 3.0449e-04\n",
            "Epoch 11/10000\n",
            "31/31 [==============================] - 2s 51ms/step - loss: 2.9684e-04 - val_loss: 2.8887e-04\n",
            "Epoch 12/10000\n",
            "31/31 [==============================] - 2s 51ms/step - loss: 2.7739e-04 - val_loss: 2.6529e-04\n",
            "Epoch 13/10000\n",
            "31/31 [==============================] - 1s 48ms/step - loss: 2.6301e-04 - val_loss: 2.4392e-04\n",
            "Epoch 14/10000\n",
            "31/31 [==============================] - 1s 48ms/step - loss: 2.4706e-04 - val_loss: 2.5274e-04\n",
            "Epoch 15/10000\n",
            "31/31 [==============================] - 1s 48ms/step - loss: 2.2901e-04 - val_loss: 2.2837e-04\n",
            "Epoch 16/10000\n",
            "31/31 [==============================] - 1s 48ms/step - loss: 2.2155e-04 - val_loss: 2.0755e-04\n",
            "Epoch 17/10000\n",
            "31/31 [==============================] - 1s 48ms/step - loss: 2.0440e-04 - val_loss: 2.0468e-04\n",
            "Epoch 18/10000\n",
            "31/31 [==============================] - 1s 48ms/step - loss: 1.9914e-04 - val_loss: 1.9996e-04\n",
            "Epoch 19/10000\n",
            "31/31 [==============================] - 2s 49ms/step - loss: 1.8988e-04 - val_loss: 1.7921e-04\n",
            "Epoch 20/10000\n",
            "31/31 [==============================] - 1s 47ms/step - loss: 1.7638e-04 - val_loss: 1.8986e-04\n",
            "Epoch 21/10000\n",
            "31/31 [==============================] - 2s 51ms/step - loss: 1.7377e-04 - val_loss: 1.7123e-04\n",
            "Epoch 22/10000\n",
            "31/31 [==============================] - 2s 52ms/step - loss: 1.6467e-04 - val_loss: 1.6038e-04\n",
            "Epoch 23/10000\n",
            "31/31 [==============================] - 1s 48ms/step - loss: 1.6277e-04 - val_loss: 1.5159e-04\n",
            "Epoch 24/10000\n",
            "31/31 [==============================] - 2s 51ms/step - loss: 1.5713e-04 - val_loss: 1.5926e-04\n",
            "Epoch 25/10000\n",
            "31/31 [==============================] - 1s 48ms/step - loss: 1.4793e-04 - val_loss: 1.4443e-04\n",
            "Epoch 26/10000\n",
            "31/31 [==============================] - 2s 52ms/step - loss: 1.4679e-04 - val_loss: 1.3439e-04\n",
            "Epoch 27/10000\n",
            "31/31 [==============================] - 2s 52ms/step - loss: 1.3244e-04 - val_loss: 1.3482e-04\n",
            "Epoch 28/10000\n",
            "31/31 [==============================] - 2s 52ms/step - loss: 1.3654e-04 - val_loss: 1.3676e-04\n",
            "Epoch 29/10000\n",
            "31/31 [==============================] - 1s 48ms/step - loss: 1.3666e-04 - val_loss: 1.3562e-04\n",
            "Epoch 30/10000\n",
            "31/31 [==============================] - 1s 48ms/step - loss: 1.3054e-04 - val_loss: 1.3478e-04\n",
            "Epoch 31/10000\n",
            "31/31 [==============================] - 1s 48ms/step - loss: 1.2431e-04 - val_loss: 1.3034e-04\n",
            "Epoch 32/10000\n",
            "31/31 [==============================] - 2s 51ms/step - loss: 1.2064e-04 - val_loss: 1.1437e-04\n",
            "Epoch 33/10000\n",
            "31/31 [==============================] - 1s 48ms/step - loss: 1.1419e-04 - val_loss: 1.1946e-04\n",
            "Epoch 34/10000\n",
            "31/31 [==============================] - 2s 52ms/step - loss: 1.1823e-04 - val_loss: 1.1500e-04\n",
            "Epoch 35/10000\n",
            "31/31 [==============================] - 1s 48ms/step - loss: 1.1863e-04 - val_loss: 1.1019e-04\n",
            "Epoch 36/10000\n",
            "31/31 [==============================] - 2s 51ms/step - loss: 1.0271e-04 - val_loss: 1.0321e-04\n",
            "Epoch 37/10000\n",
            "31/31 [==============================] - 1s 48ms/step - loss: 1.1168e-04 - val_loss: 1.1597e-04\n",
            "Epoch 38/10000\n",
            "31/31 [==============================] - 1s 48ms/step - loss: 1.0536e-04 - val_loss: 1.0134e-04\n",
            "Epoch 39/10000\n",
            "31/31 [==============================] - 1s 48ms/step - loss: 1.0892e-04 - val_loss: 1.0488e-04\n",
            "Epoch 40/10000\n",
            "31/31 [==============================] - 2s 51ms/step - loss: 1.0641e-04 - val_loss: 1.0271e-04\n",
            "Epoch 41/10000\n",
            "31/31 [==============================] - 2s 52ms/step - loss: 9.9340e-05 - val_loss: 9.3989e-05\n",
            "Epoch 42/10000\n",
            "31/31 [==============================] - 2s 52ms/step - loss: 9.5030e-05 - val_loss: 1.0081e-04\n",
            "Epoch 43/10000\n",
            "31/31 [==============================] - 1s 48ms/step - loss: 9.9155e-05 - val_loss: 9.7633e-05\n",
            "Epoch 44/10000\n",
            "31/31 [==============================] - 1s 48ms/step - loss: 1.0022e-04 - val_loss: 9.6208e-05\n",
            "Epoch 45/10000\n",
            "31/31 [==============================] - 1s 48ms/step - loss: 9.6619e-05 - val_loss: 8.6961e-05\n",
            "Epoch 46/10000\n",
            "31/31 [==============================] - 1s 48ms/step - loss: 8.0747e-05 - val_loss: 9.2204e-05\n",
            "Epoch 47/10000\n",
            "31/31 [==============================] - 1s 47ms/step - loss: 9.1611e-05 - val_loss: 1.0111e-04\n",
            "Epoch 48/10000\n",
            "31/31 [==============================] - 1s 47ms/step - loss: 9.4113e-05 - val_loss: 8.8103e-05\n",
            "Epoch 49/10000\n",
            "31/31 [==============================] - 1s 48ms/step - loss: 8.4113e-05 - val_loss: 8.3863e-05\n",
            "Epoch 50/10000\n",
            "31/31 [==============================] - 2s 51ms/step - loss: 9.1496e-05 - val_loss: 8.1978e-05\n",
            "Epoch 51/10000\n",
            "31/31 [==============================] - 1s 48ms/step - loss: 8.4427e-05 - val_loss: 8.1825e-05\n",
            "Epoch 52/10000\n",
            "31/31 [==============================] - 1s 48ms/step - loss: 8.2660e-05 - val_loss: 8.5461e-05\n",
            "Epoch 53/10000\n",
            "31/31 [==============================] - 2s 51ms/step - loss: 8.4438e-05 - val_loss: 8.2453e-05\n",
            "Epoch 54/10000\n",
            "31/31 [==============================] - 2s 52ms/step - loss: 8.1418e-05 - val_loss: 7.4702e-05\n",
            "Epoch 55/10000\n",
            "31/31 [==============================] - 1s 47ms/step - loss: 8.0293e-05 - val_loss: 8.2530e-05\n",
            "Epoch 56/10000\n",
            "31/31 [==============================] - 2s 51ms/step - loss: 8.0353e-05 - val_loss: 8.1011e-05\n",
            "Epoch 57/10000\n",
            "31/31 [==============================] - 2s 54ms/step - loss: 7.9857e-05 - val_loss: 7.4815e-05\n",
            "Epoch 58/10000\n",
            "31/31 [==============================] - 2s 59ms/step - loss: 7.8666e-05 - val_loss: 7.3656e-05\n",
            "Epoch 59/10000\n",
            "31/31 [==============================] - 1s 48ms/step - loss: 7.5123e-05 - val_loss: 7.7882e-05\n",
            "Epoch 60/10000\n",
            "31/31 [==============================] - 1s 48ms/step - loss: 7.5319e-05 - val_loss: 7.5598e-05\n",
            "Epoch 61/10000\n",
            "31/31 [==============================] - 2s 52ms/step - loss: 7.1724e-05 - val_loss: 7.1926e-05\n",
            "Epoch 62/10000\n",
            "31/31 [==============================] - 1s 47ms/step - loss: 7.6926e-05 - val_loss: 7.5117e-05\n",
            "Epoch 63/10000\n",
            "31/31 [==============================] - 2s 51ms/step - loss: 7.3636e-05 - val_loss: 8.0406e-05\n",
            "Epoch 64/10000\n",
            "31/31 [==============================] - 2s 51ms/step - loss: 7.4423e-05 - val_loss: 6.8220e-05\n",
            "Epoch 65/10000\n",
            "31/31 [==============================] - 2s 51ms/step - loss: 6.7203e-05 - val_loss: 6.8506e-05\n",
            "Epoch 66/10000\n",
            "31/31 [==============================] - 2s 51ms/step - loss: 7.5021e-05 - val_loss: 7.0957e-05\n",
            "Epoch 67/10000\n",
            "31/31 [==============================] - 2s 52ms/step - loss: 6.8017e-05 - val_loss: 6.9723e-05\n",
            "Epoch 68/10000\n",
            "31/31 [==============================] - 1s 48ms/step - loss: 6.9473e-05 - val_loss: 6.2022e-05\n",
            "Epoch 69/10000\n",
            "31/31 [==============================] - 2s 51ms/step - loss: 6.6326e-05 - val_loss: 7.2194e-05\n",
            "Epoch 70/10000\n",
            "31/31 [==============================] - 1s 48ms/step - loss: 6.8408e-05 - val_loss: 6.8588e-05\n",
            "Epoch 71/10000\n",
            "31/31 [==============================] - 2s 51ms/step - loss: 6.3624e-05 - val_loss: 6.2501e-05\n",
            "Epoch 72/10000\n",
            "31/31 [==============================] - 1s 48ms/step - loss: 6.4664e-05 - val_loss: 7.1191e-05\n",
            "Epoch 73/10000\n",
            "31/31 [==============================] - 2s 52ms/step - loss: 7.1134e-05 - val_loss: 6.2694e-05\n",
            "Epoch 74/10000\n",
            "31/31 [==============================] - 2s 51ms/step - loss: 5.9418e-05 - val_loss: 6.0583e-05\n",
            "Epoch 75/10000\n",
            "31/31 [==============================] - 2s 51ms/step - loss: 6.2848e-05 - val_loss: 6.7871e-05\n",
            "Epoch 76/10000\n",
            "31/31 [==============================] - 1s 48ms/step - loss: 7.1188e-05 - val_loss: 6.8363e-05\n",
            "Epoch 77/10000\n",
            "31/31 [==============================] - 1s 48ms/step - loss: 6.2386e-05 - val_loss: 5.7101e-05\n",
            "Epoch 78/10000\n",
            "31/31 [==============================] - 1s 48ms/step - loss: 5.9288e-05 - val_loss: 5.8575e-05\n",
            "Epoch 79/10000\n",
            "31/31 [==============================] - 1s 48ms/step - loss: 6.2324e-05 - val_loss: 6.7446e-05\n",
            "Epoch 80/10000\n",
            "31/31 [==============================] - 1s 48ms/step - loss: 6.4379e-05 - val_loss: 6.4257e-05\n",
            "Epoch 81/10000\n",
            "31/31 [==============================] - 2s 49ms/step - loss: 5.7753e-05 - val_loss: 6.0999e-05\n",
            "Epoch 82/10000\n",
            "31/31 [==============================] - 1s 47ms/step - loss: 6.0733e-05 - val_loss: 6.4588e-05\n",
            "Epoch 83/10000\n",
            "31/31 [==============================] - 1s 48ms/step - loss: 6.1145e-05 - val_loss: 6.1878e-05\n",
            "Epoch 84/10000\n",
            "31/31 [==============================] - 2s 49ms/step - loss: 6.3175e-05 - val_loss: 5.6874e-05\n",
            "Epoch 85/10000\n",
            "31/31 [==============================] - 2s 49ms/step - loss: 5.3704e-05 - val_loss: 5.5041e-05\n",
            "Epoch 86/10000\n",
            "31/31 [==============================] - 1s 48ms/step - loss: 5.7895e-05 - val_loss: 5.6034e-05\n",
            "Epoch 87/10000\n",
            "31/31 [==============================] - 1s 48ms/step - loss: 5.3635e-05 - val_loss: 5.8502e-05\n",
            "Epoch 88/10000\n",
            "31/31 [==============================] - 1s 48ms/step - loss: 5.9257e-05 - val_loss: 5.8054e-05\n",
            "Epoch 89/10000\n",
            "31/31 [==============================] - 1s 48ms/step - loss: 5.9856e-05 - val_loss: 6.1174e-05\n",
            "Epoch 90/10000\n",
            "31/31 [==============================] - 1s 48ms/step - loss: 5.6443e-05 - val_loss: 4.6482e-05\n",
            "Epoch 91/10000\n",
            "31/31 [==============================] - 1s 48ms/step - loss: 4.8509e-05 - val_loss: 5.2993e-05\n",
            "Epoch 92/10000\n",
            "31/31 [==============================] - 1s 48ms/step - loss: 5.7346e-05 - val_loss: 6.1206e-05\n",
            "Epoch 93/10000\n",
            "31/31 [==============================] - 2s 51ms/step - loss: 5.7549e-05 - val_loss: 5.0862e-05\n",
            "Epoch 94/10000\n",
            "31/31 [==============================] - 1s 48ms/step - loss: 4.9585e-05 - val_loss: 5.0918e-05\n",
            "Epoch 95/10000\n",
            "31/31 [==============================] - 1s 48ms/step - loss: 5.7040e-05 - val_loss: 6.4266e-05\n",
            "Epoch 96/10000\n",
            "31/31 [==============================] - 1s 47ms/step - loss: 5.3761e-05 - val_loss: 4.7352e-05\n",
            "Epoch 97/10000\n",
            "31/31 [==============================] - 2s 51ms/step - loss: 4.8579e-05 - val_loss: 5.3693e-05\n",
            "Epoch 98/10000\n",
            "31/31 [==============================] - 2s 51ms/step - loss: 5.3060e-05 - val_loss: 5.1819e-05\n",
            "Epoch 99/10000\n",
            "31/31 [==============================] - 2s 51ms/step - loss: 4.9952e-05 - val_loss: 5.0573e-05\n",
            "Epoch 100/10000\n",
            "31/31 [==============================] - 2s 51ms/step - loss: 5.3659e-05 - val_loss: 6.0971e-05\n",
            "Epoch 101/10000\n",
            "31/31 [==============================] - 2s 51ms/step - loss: 5.2986e-05 - val_loss: 4.9378e-05\n",
            "Epoch 102/10000\n",
            "31/31 [==============================] - 2s 51ms/step - loss: 4.3854e-05 - val_loss: 4.3886e-05\n",
            "Epoch 103/10000\n",
            "31/31 [==============================] - 1s 48ms/step - loss: 5.2348e-05 - val_loss: 5.7215e-05\n",
            "Epoch 104/10000\n",
            "31/31 [==============================] - 2s 51ms/step - loss: 5.2777e-05 - val_loss: 5.1554e-05\n",
            "Epoch 105/10000\n",
            "31/31 [==============================] - 1s 48ms/step - loss: 4.9442e-05 - val_loss: 4.4230e-05\n",
            "Epoch 106/10000\n",
            "31/31 [==============================] - 2s 51ms/step - loss: 4.4553e-05 - val_loss: 4.5302e-05\n",
            "Epoch 107/10000\n",
            "31/31 [==============================] - 1s 48ms/step - loss: 4.8922e-05 - val_loss: 5.1244e-05\n",
            "Epoch 108/10000\n",
            "31/31 [==============================] - 1s 48ms/step - loss: 4.8771e-05 - val_loss: 4.8207e-05\n",
            "Epoch 109/10000\n",
            "31/31 [==============================] - 2s 51ms/step - loss: 4.4899e-05 - val_loss: 4.5683e-05\n",
            "Epoch 110/10000\n",
            "31/31 [==============================] - 1s 48ms/step - loss: 4.6192e-05 - val_loss: 4.9038e-05\n",
            "Epoch 111/10000\n",
            "31/31 [==============================] - 2s 52ms/step - loss: 4.8143e-05 - val_loss: 4.7635e-05\n",
            "Epoch 112/10000\n",
            "31/31 [==============================] - 1s 48ms/step - loss: 4.5804e-05 - val_loss: 4.5999e-05\n",
            "Epoch 113/10000\n",
            "31/31 [==============================] - 2s 52ms/step - loss: 4.4216e-05 - val_loss: 4.4818e-05\n",
            "Epoch 114/10000\n",
            "31/31 [==============================] - 1s 48ms/step - loss: 4.6952e-05 - val_loss: 4.3768e-05\n",
            "Epoch 115/10000\n",
            "31/31 [==============================] - 1s 48ms/step - loss: 4.6223e-05 - val_loss: 4.5776e-05\n",
            "Epoch 116/10000\n",
            "31/31 [==============================] - 2s 52ms/step - loss: 4.3947e-05 - val_loss: 4.5925e-05\n",
            "Epoch 117/10000\n",
            "31/31 [==============================] - 1s 48ms/step - loss: 4.3574e-05 - val_loss: 4.8894e-05\n",
            "Epoch 118/10000\n",
            "31/31 [==============================] - 2s 51ms/step - loss: 4.6598e-05 - val_loss: 4.6468e-05\n",
            "Epoch 119/10000\n",
            "31/31 [==============================] - 1s 48ms/step - loss: 4.3312e-05 - val_loss: 4.3169e-05\n",
            "Epoch 120/10000\n",
            "31/31 [==============================] - 2s 51ms/step - loss: 4.4417e-05 - val_loss: 4.3375e-05\n",
            "Epoch 121/10000\n",
            "31/31 [==============================] - 2s 52ms/step - loss: 4.4268e-05 - val_loss: 3.9124e-05\n",
            "Epoch 122/10000\n",
            "31/31 [==============================] - 2s 52ms/step - loss: 3.9971e-05 - val_loss: 4.3013e-05\n",
            "Epoch 123/10000\n",
            "31/31 [==============================] - 2s 51ms/step - loss: 4.2594e-05 - val_loss: 4.0392e-05\n",
            "Epoch 124/10000\n",
            "31/31 [==============================] - 1s 48ms/step - loss: 3.9161e-05 - val_loss: 4.1184e-05\n",
            "Epoch 125/10000\n",
            "31/31 [==============================] - 1s 48ms/step - loss: 4.3006e-05 - val_loss: 4.7059e-05\n",
            "Epoch 126/10000\n",
            "31/31 [==============================] - 1s 48ms/step - loss: 4.4614e-05 - val_loss: 4.1405e-05\n",
            "Epoch 127/10000\n",
            "31/31 [==============================] - 2s 52ms/step - loss: 4.0106e-05 - val_loss: 3.7373e-05\n",
            "Epoch 128/10000\n",
            "31/31 [==============================] - 2s 51ms/step - loss: 3.7092e-05 - val_loss: 4.0321e-05\n",
            "Epoch 129/10000\n",
            "31/31 [==============================] - 2s 51ms/step - loss: 4.3929e-05 - val_loss: 4.2007e-05\n",
            "Epoch 130/10000\n",
            "31/31 [==============================] - 2s 52ms/step - loss: 3.8420e-05 - val_loss: 3.9149e-05\n",
            "Epoch 131/10000\n",
            "31/31 [==============================] - 2s 51ms/step - loss: 3.8889e-05 - val_loss: 3.9982e-05\n",
            "Epoch 132/10000\n",
            "31/31 [==============================] - 2s 51ms/step - loss: 4.1632e-05 - val_loss: 4.1499e-05\n",
            "Epoch 133/10000\n",
            "31/31 [==============================] - 2s 51ms/step - loss: 4.0651e-05 - val_loss: 4.1011e-05\n",
            "Epoch 134/10000\n",
            "31/31 [==============================] - 2s 52ms/step - loss: 3.7272e-05 - val_loss: 3.5630e-05\n",
            "Epoch 135/10000\n",
            "31/31 [==============================] - 2s 52ms/step - loss: 3.5566e-05 - val_loss: 3.8936e-05\n",
            "Epoch 136/10000\n",
            "31/31 [==============================] - 2s 52ms/step - loss: 3.7620e-05 - val_loss: 3.8765e-05\n",
            "Epoch 137/10000\n",
            "31/31 [==============================] - 1s 48ms/step - loss: 4.1614e-05 - val_loss: 4.1244e-05\n",
            "Epoch 138/10000\n",
            "31/31 [==============================] - 1s 48ms/step - loss: 4.2317e-05 - val_loss: 3.7758e-05\n",
            "Epoch 139/10000\n",
            "31/31 [==============================] - 1s 48ms/step - loss: 3.1824e-05 - val_loss: 3.0213e-05\n",
            "Epoch 140/10000\n",
            "31/31 [==============================] - 2s 51ms/step - loss: 3.4898e-05 - val_loss: 4.2155e-05\n",
            "Epoch 141/10000\n",
            "31/31 [==============================] - 2s 51ms/step - loss: 4.2536e-05 - val_loss: 3.5534e-05\n",
            "Epoch 142/10000\n",
            "31/31 [==============================] - 1s 48ms/step - loss: 3.4825e-05 - val_loss: 3.8907e-05\n",
            "Epoch 143/10000\n",
            "31/31 [==============================] - 1s 48ms/step - loss: 3.6701e-05 - val_loss: 3.2535e-05\n",
            "Epoch 144/10000\n",
            "31/31 [==============================] - 2s 52ms/step - loss: 3.2773e-05 - val_loss: 3.4037e-05\n",
            "Epoch 145/10000\n",
            "31/31 [==============================] - 2s 52ms/step - loss: 3.4117e-05 - val_loss: 3.9149e-05\n",
            "Epoch 146/10000\n",
            "31/31 [==============================] - 1s 48ms/step - loss: 4.1572e-05 - val_loss: 3.7686e-05\n",
            "Epoch 147/10000\n",
            "31/31 [==============================] - 1s 48ms/step - loss: 3.4788e-05 - val_loss: 3.4975e-05\n",
            "Epoch 148/10000\n",
            "31/31 [==============================] - 1s 48ms/step - loss: 3.3849e-05 - val_loss: 3.4532e-05\n",
            "Epoch 149/10000\n",
            "31/31 [==============================] - 1s 48ms/step - loss: 3.3547e-05 - val_loss: 3.2817e-05\n",
            "Epoch 150/10000\n",
            "31/31 [==============================] - 2s 51ms/step - loss: 3.3540e-05 - val_loss: 3.3365e-05\n",
            "Epoch 151/10000\n",
            "31/31 [==============================] - 1s 48ms/step - loss: 3.7184e-05 - val_loss: 3.6817e-05\n",
            "Epoch 152/10000\n",
            "31/31 [==============================] - 1s 48ms/step - loss: 3.2338e-05 - val_loss: 3.0190e-05\n",
            "Epoch 153/10000\n",
            "31/31 [==============================] - 1s 48ms/step - loss: 3.1080e-05 - val_loss: 3.3671e-05\n",
            "Epoch 154/10000\n",
            "31/31 [==============================] - 1s 48ms/step - loss: 3.6436e-05 - val_loss: 3.5486e-05\n",
            "Epoch 155/10000\n",
            "31/31 [==============================] - 1s 48ms/step - loss: 3.4738e-05 - val_loss: 3.2978e-05\n",
            "Epoch 156/10000\n",
            "31/31 [==============================] - 2s 49ms/step - loss: 3.1005e-05 - val_loss: 3.1396e-05\n",
            "Epoch 157/10000\n",
            "31/31 [==============================] - 2s 52ms/step - loss: 3.1254e-05 - val_loss: 3.2391e-05\n",
            "Epoch 158/10000\n",
            "31/31 [==============================] - 1s 48ms/step - loss: 3.2200e-05 - val_loss: 3.3822e-05\n",
            "Epoch 159/10000\n",
            "31/31 [==============================] - 2s 52ms/step - loss: 3.3780e-05 - val_loss: 3.1526e-05\n",
            "Epoch 160/10000\n",
            "31/31 [==============================] - 1s 48ms/step - loss: 3.1176e-05 - val_loss: 3.3457e-05\n",
            "Epoch 161/10000\n",
            "31/31 [==============================] - 2s 51ms/step - loss: 3.3539e-05 - val_loss: 3.2400e-05\n",
            "Epoch 162/10000\n",
            "31/31 [==============================] - 1s 48ms/step - loss: 3.3362e-05 - val_loss: 3.1514e-05\n",
            "Epoch 163/10000\n",
            "31/31 [==============================] - 1s 48ms/step - loss: 3.0393e-05 - val_loss: 2.6699e-05\n",
            "Epoch 164/10000\n",
            "31/31 [==============================] - 1s 48ms/step - loss: 2.9983e-05 - val_loss: 3.1951e-05\n",
            "Epoch 165/10000\n",
            "31/31 [==============================] - 1s 48ms/step - loss: 3.3660e-05 - val_loss: 2.9970e-05\n",
            "Epoch 166/10000\n",
            "31/31 [==============================] - 1s 48ms/step - loss: 2.9570e-05 - val_loss: 2.7084e-05\n",
            "Epoch 167/10000\n",
            "31/31 [==============================] - 2s 51ms/step - loss: 2.6018e-05 - val_loss: 2.7341e-05\n",
            "Epoch 168/10000\n",
            "31/31 [==============================] - 2s 51ms/step - loss: 3.4408e-05 - val_loss: 4.0182e-05\n",
            "Epoch 169/10000\n",
            "31/31 [==============================] - 2s 51ms/step - loss: 3.4488e-05 - val_loss: 3.0171e-05\n",
            "Epoch 170/10000\n",
            "31/31 [==============================] - 2s 52ms/step - loss: 2.6269e-05 - val_loss: 2.4503e-05\n",
            "Epoch 171/10000\n",
            "31/31 [==============================] - 1s 48ms/step - loss: 2.6908e-05 - val_loss: 3.0044e-05\n",
            "Epoch 172/10000\n",
            "31/31 [==============================] - 1s 48ms/step - loss: 3.1278e-05 - val_loss: 3.2024e-05\n",
            "Epoch 173/10000\n",
            "31/31 [==============================] - 1s 48ms/step - loss: 3.1373e-05 - val_loss: 3.3005e-05\n",
            "Epoch 174/10000\n",
            "31/31 [==============================] - 1s 48ms/step - loss: 2.9953e-05 - val_loss: 2.8635e-05\n",
            "Epoch 175/10000\n",
            "31/31 [==============================] - 1s 48ms/step - loss: 2.5540e-05 - val_loss: 2.8890e-05\n",
            "Epoch 176/10000\n",
            "31/31 [==============================] - 1s 48ms/step - loss: 3.2460e-05 - val_loss: 3.4588e-05\n",
            "Epoch 177/10000\n",
            "31/31 [==============================] - 1s 48ms/step - loss: 2.9580e-05 - val_loss: 2.4304e-05\n",
            "Epoch 178/10000\n",
            "31/31 [==============================] - 2s 51ms/step - loss: 2.4619e-05 - val_loss: 2.7784e-05\n",
            "Epoch 179/10000\n",
            "31/31 [==============================] - 2s 52ms/step - loss: 2.9822e-05 - val_loss: 3.1526e-05\n",
            "Epoch 180/10000\n",
            "31/31 [==============================] - 2s 51ms/step - loss: 3.0127e-05 - val_loss: 2.7329e-05\n",
            "Epoch 181/10000\n",
            "31/31 [==============================] - 1s 48ms/step - loss: 2.6867e-05 - val_loss: 2.5487e-05\n",
            "Epoch 182/10000\n",
            "31/31 [==============================] - 2s 52ms/step - loss: 2.6302e-05 - val_loss: 2.6779e-05\n",
            "Epoch 183/10000\n",
            "31/31 [==============================] - 2s 49ms/step - loss: 2.8972e-05 - val_loss: 3.2607e-05\n",
            "Epoch 184/10000\n",
            "31/31 [==============================] - 1s 48ms/step - loss: 2.7705e-05 - val_loss: 2.8541e-05\n",
            "Epoch 185/10000\n",
            "31/31 [==============================] - 2s 51ms/step - loss: 2.8293e-05 - val_loss: 2.6658e-05\n",
            "Epoch 186/10000\n",
            "31/31 [==============================] - 2s 52ms/step - loss: 2.5612e-05 - val_loss: 2.2951e-05\n",
            "Epoch 187/10000\n",
            "31/31 [==============================] - 1s 47ms/step - loss: 2.7009e-05 - val_loss: 3.0785e-05\n",
            "Epoch 188/10000\n",
            "31/31 [==============================] - 1s 48ms/step - loss: 2.9051e-05 - val_loss: 2.8356e-05\n",
            "Epoch 189/10000\n",
            "31/31 [==============================] - 2s 52ms/step - loss: 2.6270e-05 - val_loss: 2.5950e-05\n",
            "Epoch 190/10000\n",
            "31/31 [==============================] - 1s 49ms/step - loss: 2.6540e-05 - val_loss: 2.5447e-05\n",
            "Epoch 191/10000\n",
            "31/31 [==============================] - 1s 48ms/step - loss: 2.4582e-05 - val_loss: 2.4869e-05\n",
            "Epoch 192/10000\n",
            "31/31 [==============================] - 2s 51ms/step - loss: 2.8230e-05 - val_loss: 2.9060e-05\n",
            "Epoch 193/10000\n",
            "31/31 [==============================] - 1s 48ms/step - loss: 2.6555e-05 - val_loss: 2.4973e-05\n",
            "Epoch 194/10000\n",
            "31/31 [==============================] - 1s 48ms/step - loss: 2.6484e-05 - val_loss: 2.5701e-05\n",
            "Epoch 195/10000\n",
            "31/31 [==============================] - 2s 52ms/step - loss: 2.5024e-05 - val_loss: 2.2972e-05\n",
            "Epoch 196/10000\n",
            "31/31 [==============================] - 2s 52ms/step - loss: 2.3576e-05 - val_loss: 2.7146e-05\n",
            "Epoch 197/10000\n",
            "31/31 [==============================] - 1s 48ms/step - loss: 2.8437e-05 - val_loss: 2.8438e-05\n",
            "Epoch 198/10000\n",
            "31/31 [==============================] - 1s 48ms/step - loss: 2.3935e-05 - val_loss: 2.2969e-05\n",
            "Epoch 199/10000\n",
            "31/31 [==============================] - 1s 48ms/step - loss: 2.4420e-05 - val_loss: 2.3314e-05\n",
            "Epoch 200/10000\n",
            "31/31 [==============================] - 2s 52ms/step - loss: 2.4986e-05 - val_loss: 2.2513e-05\n",
            "Epoch 201/10000\n",
            "31/31 [==============================] - 1s 49ms/step - loss: 2.1220e-05 - val_loss: 2.0375e-05\n",
            "Epoch 202/10000\n",
            "31/31 [==============================] - 2s 52ms/step - loss: 2.6185e-05 - val_loss: 3.3965e-05\n",
            "Epoch 203/10000\n",
            "31/31 [==============================] - 1s 48ms/step - loss: 2.7247e-05 - val_loss: 2.1552e-05\n",
            "Epoch 204/10000\n",
            "31/31 [==============================] - 2s 52ms/step - loss: 2.1173e-05 - val_loss: 2.3736e-05\n",
            "Epoch 205/10000\n",
            "31/31 [==============================] - 2s 51ms/step - loss: 2.3270e-05 - val_loss: 2.5061e-05\n",
            "Epoch 206/10000\n",
            "31/31 [==============================] - 1s 48ms/step - loss: 2.4119e-05 - val_loss: 2.6127e-05\n",
            "Epoch 207/10000\n",
            "31/31 [==============================] - 1s 48ms/step - loss: 2.6041e-05 - val_loss: 2.6662e-05\n",
            "Epoch 208/10000\n",
            "31/31 [==============================] - 1s 48ms/step - loss: 2.4563e-05 - val_loss: 2.1556e-05\n",
            "Epoch 209/10000\n",
            "31/31 [==============================] - 2s 52ms/step - loss: 1.9534e-05 - val_loss: 2.0774e-05\n",
            "Epoch 210/10000\n",
            "31/31 [==============================] - 2s 51ms/step - loss: 2.5390e-05 - val_loss: 2.5086e-05\n",
            "Epoch 211/10000\n",
            "31/31 [==============================] - 2s 52ms/step - loss: 2.1605e-05 - val_loss: 1.9357e-05\n",
            "Epoch 212/10000\n",
            "31/31 [==============================] - 2s 52ms/step - loss: 2.0200e-05 - val_loss: 2.3749e-05\n",
            "Epoch 213/10000\n",
            "31/31 [==============================] - 2s 52ms/step - loss: 2.5669e-05 - val_loss: 2.3886e-05\n",
            "Epoch 214/10000\n",
            "31/31 [==============================] - 2s 52ms/step - loss: 2.0303e-05 - val_loss: 1.9408e-05\n",
            "Epoch 215/10000\n",
            "31/31 [==============================] - 2s 49ms/step - loss: 2.0699e-05 - val_loss: 2.4094e-05\n",
            "Epoch 216/10000\n",
            "31/31 [==============================] - 1s 48ms/step - loss: 2.4790e-05 - val_loss: 2.3460e-05\n",
            "Epoch 217/10000\n",
            "31/31 [==============================] - 2s 51ms/step - loss: 2.1450e-05 - val_loss: 1.9674e-05\n",
            "Epoch 218/10000\n",
            "31/31 [==============================] - 1s 48ms/step - loss: 2.1967e-05 - val_loss: 2.3115e-05\n",
            "Epoch 219/10000\n",
            "31/31 [==============================] - 2s 52ms/step - loss: 2.1427e-05 - val_loss: 1.9610e-05\n",
            "Epoch 220/10000\n",
            "31/31 [==============================] - 2s 52ms/step - loss: 2.1555e-05 - val_loss: 2.2404e-05\n",
            "Epoch 221/10000\n",
            "31/31 [==============================] - 1s 48ms/step - loss: 2.3402e-05 - val_loss: 2.2004e-05\n",
            "Epoch 222/10000\n",
            "31/31 [==============================] - 2s 52ms/step - loss: 1.9502e-05 - val_loss: 1.9129e-05\n",
            "Epoch 223/10000\n",
            "31/31 [==============================] - 2s 52ms/step - loss: 2.1106e-05 - val_loss: 2.2319e-05\n",
            "Epoch 224/10000\n",
            "31/31 [==============================] - 1s 48ms/step - loss: 2.2922e-05 - val_loss: 2.0568e-05\n",
            "Epoch 225/10000\n",
            "31/31 [==============================] - 2s 52ms/step - loss: 2.1168e-05 - val_loss: 1.9117e-05\n",
            "Epoch 226/10000\n",
            "31/31 [==============================] - 1s 48ms/step - loss: 2.0408e-05 - val_loss: 2.4197e-05\n",
            "Epoch 227/10000\n",
            "31/31 [==============================] - 1s 48ms/step - loss: 2.3559e-05 - val_loss: 2.1743e-05\n",
            "Epoch 228/10000\n",
            "31/31 [==============================] - 2s 52ms/step - loss: 2.0106e-05 - val_loss: 1.9468e-05\n",
            "Epoch 229/10000\n",
            "31/31 [==============================] - 2s 52ms/step - loss: 1.7536e-05 - val_loss: 1.8965e-05\n",
            "Epoch 230/10000\n",
            "31/31 [==============================] - 2s 52ms/step - loss: 2.1228e-05 - val_loss: 2.3045e-05\n",
            "Epoch 231/10000\n",
            "31/31 [==============================] - 1s 48ms/step - loss: 2.2789e-05 - val_loss: 2.0747e-05\n",
            "Epoch 232/10000\n",
            "31/31 [==============================] - 2s 52ms/step - loss: 2.0466e-05 - val_loss: 1.9621e-05\n",
            "Epoch 233/10000\n",
            "31/31 [==============================] - 2s 52ms/step - loss: 1.9363e-05 - val_loss: 1.9640e-05\n",
            "Epoch 234/10000\n",
            "31/31 [==============================] - 2s 49ms/step - loss: 1.9480e-05 - val_loss: 2.0638e-05\n",
            "Epoch 235/10000\n",
            "31/31 [==============================] - 2s 52ms/step - loss: 2.0939e-05 - val_loss: 2.0404e-05\n",
            "Epoch 236/10000\n",
            "31/31 [==============================] - 1s 48ms/step - loss: 1.8988e-05 - val_loss: 1.7652e-05\n",
            "Epoch 237/10000\n",
            "31/31 [==============================] - 1s 48ms/step - loss: 2.1503e-05 - val_loss: 2.3810e-05\n",
            "Epoch 238/10000\n",
            "31/31 [==============================] - 2s 49ms/step - loss: 2.0978e-05 - val_loss: 1.9970e-05\n",
            "Epoch 239/10000\n",
            "31/31 [==============================] - 1s 49ms/step - loss: 1.9138e-05 - val_loss: 1.8300e-05\n",
            "Epoch 240/10000\n",
            "31/31 [==============================] - 2s 52ms/step - loss: 1.8782e-05 - val_loss: 1.9800e-05\n",
            "Epoch 241/10000\n",
            "31/31 [==============================] - 2s 49ms/step - loss: 1.9959e-05 - val_loss: 2.1554e-05\n",
            "Epoch 242/10000\n",
            "31/31 [==============================] - 2s 52ms/step - loss: 2.0176e-05 - val_loss: 1.7468e-05\n",
            "Epoch 243/10000\n",
            "31/31 [==============================] - 2s 53ms/step - loss: 1.6390e-05 - val_loss: 1.8591e-05\n",
            "Epoch 244/10000\n",
            "31/31 [==============================] - 2s 52ms/step - loss: 2.1817e-05 - val_loss: 2.0283e-05\n",
            "Epoch 245/10000\n",
            "31/31 [==============================] - 1s 49ms/step - loss: 1.6122e-05 - val_loss: 1.7483e-05\n",
            "Epoch 246/10000\n",
            "31/31 [==============================] - 2s 52ms/step - loss: 2.0953e-05 - val_loss: 2.2945e-05\n",
            "Epoch 247/10000\n",
            "31/31 [==============================] - 2s 51ms/step - loss: 1.9548e-05 - val_loss: 1.9305e-05\n",
            "Epoch 248/10000\n",
            "31/31 [==============================] - 1s 48ms/step - loss: 1.7908e-05 - val_loss: 1.6325e-05\n",
            "Epoch 249/10000\n",
            "31/31 [==============================] - 1s 48ms/step - loss: 1.6274e-05 - val_loss: 1.8795e-05\n",
            "Epoch 250/10000\n",
            "31/31 [==============================] - 1s 48ms/step - loss: 2.0292e-05 - val_loss: 2.2473e-05\n",
            "Epoch 251/10000\n",
            "31/31 [==============================] - 1s 48ms/step - loss: 2.0885e-05 - val_loss: 1.9195e-05\n",
            "Epoch 252/10000\n",
            "31/31 [==============================] - 1s 48ms/step - loss: 1.5885e-05 - val_loss: 1.5444e-05\n",
            "Epoch 253/10000\n",
            "31/31 [==============================] - 2s 52ms/step - loss: 1.8102e-05 - val_loss: 2.0218e-05\n",
            "Epoch 254/10000\n",
            "31/31 [==============================] - 2s 52ms/step - loss: 1.9998e-05 - val_loss: 2.0826e-05\n",
            "Epoch 255/10000\n",
            "31/31 [==============================] - 1s 48ms/step - loss: 1.7528e-05 - val_loss: 1.6426e-05\n",
            "Epoch 256/10000\n",
            "31/31 [==============================] - 1s 48ms/step - loss: 1.6209e-05 - val_loss: 1.8149e-05\n",
            "Epoch 257/10000\n",
            "31/31 [==============================] - 2s 49ms/step - loss: 1.9587e-05 - val_loss: 1.5805e-05\n",
            "Epoch 258/10000\n",
            "31/31 [==============================] - 1s 49ms/step - loss: 1.7202e-05 - val_loss: 1.8877e-05\n",
            "Epoch 259/10000\n",
            "31/31 [==============================] - 2s 52ms/step - loss: 1.7351e-05 - val_loss: 1.8417e-05\n",
            "Epoch 260/10000\n",
            "31/31 [==============================] - 1s 48ms/step - loss: 1.8400e-05 - val_loss: 1.7800e-05\n",
            "Epoch 261/10000\n",
            "31/31 [==============================] - 1s 48ms/step - loss: 1.7398e-05 - val_loss: 1.6217e-05\n",
            "Epoch 262/10000\n",
            "31/31 [==============================] - 1s 48ms/step - loss: 1.6217e-05 - val_loss: 1.6839e-05\n",
            "Epoch 263/10000\n",
            "31/31 [==============================] - 2s 49ms/step - loss: 1.6412e-05 - val_loss: 1.6872e-05\n",
            "Epoch 264/10000\n",
            "31/31 [==============================] - 2s 52ms/step - loss: 1.7571e-05 - val_loss: 1.8272e-05\n",
            "Epoch 265/10000\n",
            "31/31 [==============================] - 2s 52ms/step - loss: 1.8859e-05 - val_loss: 2.0998e-05\n",
            "Epoch 266/10000\n",
            "31/31 [==============================] - 2s 52ms/step - loss: 1.7995e-05 - val_loss: 1.5884e-05\n",
            "Epoch 267/10000\n",
            "31/31 [==============================] - 1s 48ms/step - loss: 1.5093e-05 - val_loss: 1.4318e-05\n",
            "Epoch 268/10000\n",
            "31/31 [==============================] - 2s 52ms/step - loss: 1.7382e-05 - val_loss: 2.1001e-05\n",
            "Epoch 269/10000\n",
            "31/31 [==============================] - 1s 48ms/step - loss: 1.8976e-05 - val_loss: 1.5273e-05\n",
            "Epoch 270/10000\n",
            "31/31 [==============================] - 1s 48ms/step - loss: 1.5082e-05 - val_loss: 1.4785e-05\n",
            "Epoch 271/10000\n",
            "31/31 [==============================] - 2s 48ms/step - loss: 1.4486e-05 - val_loss: 1.7057e-05\n",
            "Epoch 272/10000\n",
            "31/31 [==============================] - 1s 48ms/step - loss: 1.7840e-05 - val_loss: 1.8657e-05\n",
            "Epoch 273/10000\n",
            "31/31 [==============================] - 1s 48ms/step - loss: 1.7239e-05 - val_loss: 1.6287e-05\n",
            "Epoch 274/10000\n",
            "31/31 [==============================] - 2s 52ms/step - loss: 1.5165e-05 - val_loss: 1.3813e-05\n",
            "Epoch 275/10000\n",
            "31/31 [==============================] - 1s 48ms/step - loss: 1.4834e-05 - val_loss: 1.8279e-05\n",
            "Epoch 276/10000\n",
            "31/31 [==============================] - 2s 50ms/step - loss: 1.9618e-05 - val_loss: 1.9038e-05\n",
            "Epoch 277/10000\n",
            "31/31 [==============================] - 2s 53ms/step - loss: 1.5226e-05 - val_loss: 1.3401e-05\n",
            "Epoch 278/10000\n",
            "31/31 [==============================] - 2s 52ms/step - loss: 1.3655e-05 - val_loss: 1.5077e-05\n",
            "Epoch 279/10000\n",
            "31/31 [==============================] - 1s 48ms/step - loss: 1.7650e-05 - val_loss: 1.8307e-05\n",
            "Epoch 280/10000\n",
            "31/31 [==============================] - 1s 48ms/step - loss: 1.7654e-05 - val_loss: 1.6313e-05\n",
            "Epoch 281/10000\n",
            "31/31 [==============================] - 1s 48ms/step - loss: 1.5327e-05 - val_loss: 1.3768e-05\n",
            "Epoch 282/10000\n",
            "31/31 [==============================] - 2s 52ms/step - loss: 1.5133e-05 - val_loss: 1.8106e-05\n",
            "Epoch 283/10000\n",
            "31/31 [==============================] - 1s 49ms/step - loss: 1.5443e-05 - val_loss: 1.2912e-05\n",
            "Epoch 284/10000\n",
            "31/31 [==============================] - 1s 48ms/step - loss: 1.4018e-05 - val_loss: 1.8374e-05\n",
            "Epoch 285/10000\n",
            "31/31 [==============================] - 2s 49ms/step - loss: 1.8627e-05 - val_loss: 1.7975e-05\n",
            "Epoch 286/10000\n",
            "31/31 [==============================] - 2s 49ms/step - loss: 1.4353e-05 - val_loss: 1.2330e-05\n",
            "Epoch 287/10000\n",
            "31/31 [==============================] - 2s 49ms/step - loss: 1.3186e-05 - val_loss: 1.6132e-05\n",
            "Epoch 288/10000\n",
            "31/31 [==============================] - 1s 48ms/step - loss: 1.8724e-05 - val_loss: 1.7714e-05\n",
            "Epoch 289/10000\n",
            "31/31 [==============================] - 2s 52ms/step - loss: 1.3602e-05 - val_loss: 1.2607e-05\n",
            "Epoch 290/10000\n",
            "31/31 [==============================] - 2s 52ms/step - loss: 1.5511e-05 - val_loss: 1.6593e-05\n",
            "Epoch 291/10000\n",
            "31/31 [==============================] - 2s 52ms/step - loss: 1.6144e-05 - val_loss: 1.4782e-05\n",
            "Epoch 292/10000\n",
            "31/31 [==============================] - 2s 52ms/step - loss: 1.4081e-05 - val_loss: 1.2321e-05\n",
            "Epoch 293/10000\n",
            "31/31 [==============================] - 2s 51ms/step - loss: 1.3709e-05 - val_loss: 1.9280e-05\n",
            "Epoch 294/10000\n",
            "31/31 [==============================] - 2s 52ms/step - loss: 1.7858e-05 - val_loss: 1.4953e-05\n",
            "Epoch 295/10000\n",
            "31/31 [==============================] - 1s 49ms/step - loss: 1.4033e-05 - val_loss: 1.2531e-05\n",
            "Epoch 296/10000\n",
            "31/31 [==============================] - 1s 48ms/step - loss: 1.2752e-05 - val_loss: 1.3846e-05\n",
            "Epoch 297/10000\n",
            "31/31 [==============================] - 1s 48ms/step - loss: 1.5407e-05 - val_loss: 1.7322e-05\n",
            "Epoch 298/10000\n",
            "31/31 [==============================] - 2s 49ms/step - loss: 1.6444e-05 - val_loss: 1.5273e-05\n",
            "Epoch 299/10000\n",
            "31/31 [==============================] - 2s 51ms/step - loss: 1.3814e-05 - val_loss: 1.4002e-05\n",
            "Epoch 300/10000\n",
            "31/31 [==============================] - 2s 51ms/step - loss: 1.3962e-05 - val_loss: 1.3334e-05\n",
            "Epoch 301/10000\n",
            "31/31 [==============================] - 2s 52ms/step - loss: 1.5816e-05 - val_loss: 1.5774e-05\n",
            "Epoch 302/10000\n",
            "31/31 [==============================] - 1s 48ms/step - loss: 1.3237e-05 - val_loss: 1.2848e-05\n",
            "Epoch 303/10000\n",
            "31/31 [==============================] - 2s 52ms/step - loss: 1.3070e-05 - val_loss: 1.6323e-05\n",
            "Epoch 304/10000\n",
            "31/31 [==============================] - 1s 48ms/step - loss: 1.6123e-05 - val_loss: 1.4174e-05\n",
            "Epoch 305/10000\n",
            "31/31 [==============================] - 2s 52ms/step - loss: 1.3046e-05 - val_loss: 1.1927e-05\n",
            "Epoch 306/10000\n",
            "31/31 [==============================] - 2s 49ms/step - loss: 1.3039e-05 - val_loss: 1.5485e-05\n",
            "Epoch 307/10000\n",
            "31/31 [==============================] - 1s 49ms/step - loss: 1.5235e-05 - val_loss: 1.4430e-05\n",
            "Epoch 308/10000\n",
            "31/31 [==============================] - 2s 52ms/step - loss: 1.4777e-05 - val_loss: 1.3897e-05\n",
            "Epoch 309/10000\n",
            "31/31 [==============================] - 1s 48ms/step - loss: 1.1637e-05 - val_loss: 1.2223e-05\n",
            "Epoch 310/10000\n",
            "31/31 [==============================] - 2s 52ms/step - loss: 1.5672e-05 - val_loss: 1.9735e-05\n",
            "Epoch 311/10000\n",
            "31/31 [==============================] - 2s 53ms/step - loss: 1.6488e-05 - val_loss: 1.2340e-05\n",
            "Epoch 312/10000\n",
            "31/31 [==============================] - 2s 52ms/step - loss: 1.0530e-05 - val_loss: 9.5989e-06\n",
            "Epoch 313/10000\n",
            "31/31 [==============================] - 2s 49ms/step - loss: 1.2421e-05 - val_loss: 1.6803e-05\n",
            "Epoch 314/10000\n",
            "31/31 [==============================] - 2s 49ms/step - loss: 1.5830e-05 - val_loss: 1.4053e-05\n",
            "Epoch 315/10000\n",
            "31/31 [==============================] - 2s 49ms/step - loss: 1.4329e-05 - val_loss: 1.4824e-05\n",
            "Epoch 316/10000\n",
            "31/31 [==============================] - 1s 48ms/step - loss: 1.2412e-05 - val_loss: 1.2267e-05\n",
            "Epoch 317/10000\n",
            "31/31 [==============================] - 1s 48ms/step - loss: 1.3401e-05 - val_loss: 1.4348e-05\n",
            "Epoch 318/10000\n",
            "31/31 [==============================] - 2s 52ms/step - loss: 1.4417e-05 - val_loss: 1.4026e-05\n",
            "Epoch 319/10000\n",
            "31/31 [==============================] - 2s 52ms/step - loss: 1.1801e-05 - val_loss: 1.2069e-05\n",
            "Epoch 320/10000\n",
            "31/31 [==============================] - 1s 48ms/step - loss: 1.4258e-05 - val_loss: 1.3794e-05\n",
            "Epoch 321/10000\n",
            "31/31 [==============================] - 2s 52ms/step - loss: 1.2979e-05 - val_loss: 1.4113e-05\n",
            "Epoch 322/10000\n",
            "31/31 [==============================] - 1s 48ms/step - loss: 1.3552e-05 - val_loss: 1.4075e-05\n",
            "Epoch 323/10000\n",
            "31/31 [==============================] - 2s 52ms/step - loss: 1.3162e-05 - val_loss: 1.2751e-05\n",
            "Epoch 324/10000\n",
            "31/31 [==============================] - 2s 52ms/step - loss: 1.3304e-05 - val_loss: 1.3757e-05\n",
            "Epoch 325/10000\n",
            "31/31 [==============================] - 1s 48ms/step - loss: 1.2940e-05 - val_loss: 1.2658e-05\n",
            "Epoch 326/10000\n",
            "31/31 [==============================] - 1s 48ms/step - loss: 1.2115e-05 - val_loss: 1.3006e-05\n",
            "Epoch 327/10000\n",
            "31/31 [==============================] - 2s 52ms/step - loss: 1.3566e-05 - val_loss: 1.4302e-05\n",
            "Epoch 328/10000\n",
            "31/31 [==============================] - 2s 52ms/step - loss: 1.3285e-05 - val_loss: 1.0446e-05\n",
            "Epoch 329/10000\n",
            "31/31 [==============================] - 2s 52ms/step - loss: 1.1176e-05 - val_loss: 1.2963e-05\n",
            "Epoch 330/10000\n",
            "31/31 [==============================] - 1s 49ms/step - loss: 1.4063e-05 - val_loss: 1.4397e-05\n",
            "Epoch 331/10000\n",
            "31/31 [==============================] - 2s 52ms/step - loss: 1.2159e-05 - val_loss: 1.1955e-05\n",
            "Epoch 332/10000\n",
            "31/31 [==============================] - ETA: 0s - loss: 1.3939e-05Restoring model weights from the end of the best epoch: 312.\n",
            "31/31 [==============================] - 1s 48ms/step - loss: 1.3939e-05 - val_loss: 1.2457e-05\n",
            "Epoch 00332: early stopping\n"
          ]
        }
      ],
      "source": [
        "history = model.fit(x=extended_microstructure, \n",
        "                    y=effective_youngs, \n",
        "                    batch_size=BATCH, \n",
        "                    epochs=EPOCHS, \n",
        "                    validation_split=VAL_SPLIT,\n",
        "                    verbose=1,\n",
        "                    callbacks=[callback])"
      ]
    },
    {
      "cell_type": "code",
      "execution_count": null,
      "metadata": {
        "id": "pkRwqLauhAhe",
        "colab": {
          "base_uri": "https://localhost:8080/"
        },
        "outputId": "ce583a46-4f49-429c-b912-0515bf66d4df"
      },
      "outputs": [
        {
          "output_type": "stream",
          "name": "stdout",
          "text": [
            "62/62 [==============================] - 1s 8ms/step - loss: 9.5361e-06\n"
          ]
        },
        {
          "output_type": "execute_result",
          "data": {
            "text/plain": [
              "9.536098332318943e-06"
            ]
          },
          "metadata": {},
          "execution_count": 19
        }
      ],
      "source": [
        "model.evaluate(extended_microstructure, \n",
        "               effective_youngs, \n",
        "               batch_size=BATCH)"
      ]
    },
    {
      "cell_type": "code",
      "execution_count": null,
      "metadata": {
        "id": "xDlP_wMyjyWm",
        "colab": {
          "base_uri": "https://localhost:8080/",
          "height": 295
        },
        "outputId": "d58ad585-5f0d-4aee-f672-c78a575560a0"
      },
      "outputs": [
        {
          "output_type": "display_data",
          "data": {
            "image/png": "[encoded data removed]",
            "text/plain": [
              "<Figure size 432x288 with 1 Axes>"
            ]
          },
          "metadata": {
            "needs_background": "light"
          }
        }
      ],
      "source": [
        "# summarize history for loss\n",
        "plt.plot(history.history['loss'])\n",
        "plt.plot(history.history['val_loss'])\n",
        "plt.title('model loss')\n",
        "plt.ylabel('loss')\n",
        "plt.xlabel('epoch')\n",
        "plt.legend(['train', 'validation'], loc='upper left')\n",
        "plt.show()"
      ]
    },
    {
      "cell_type": "code",
      "execution_count": null,
      "metadata": {
        "id": "0WTDnhxWsSGv",
        "colab": {
          "base_uri": "https://localhost:8080/",
          "height": 295
        },
        "outputId": "c73a0cbf-a3c8-450d-a046-55585688dfac"
      },
      "outputs": [
        {
          "output_type": "display_data",
          "data": {
            "image/png": "[encoded data removed]",
            "text/plain": [
              "<Figure size 432x288 with 1 Axes>"
            ]
          },
          "metadata": {
            "needs_background": "light"
          }
        }
      ],
      "source": [
        "# summarize history for loss\n",
        "plt.semilogy(history.history['loss'])\n",
        "plt.semilogy(history.history['val_loss'])\n",
        "plt.title('model loss')\n",
        "plt.ylabel('loss')\n",
        "plt.xlabel('epoch')\n",
        "plt.legend(['train', 'validation'], loc='upper left')\n",
        "plt.show()"
      ]
    },
    {
      "cell_type": "code",
      "execution_count": null,
      "metadata": {
        "id": "0BA1Rn0Hkz5o"
      },
      "outputs": [],
      "source": [
        "predicted_eff_youngs = model.predict(extended_microstructure, batch_size=BATCH)"
      ]
    },
    {
      "cell_type": "code",
      "execution_count": null,
      "metadata": {
        "id": "27uAUt7sssNO",
        "colab": {
          "base_uri": "https://localhost:8080/",
          "height": 265
        },
        "outputId": "26db503b-4598-44ad-9d34-04114d66e4a3"
      },
      "outputs": [
        {
          "output_type": "display_data",
          "data": {
            "image/png": "[encoded data removed]",
            "text/plain": [
              "<Figure size 432x288 with 1 Axes>"
            ]
          },
          "metadata": {
            "needs_background": "light"
          }
        }
      ],
      "source": [
        "plt.scatter(x=predicted_eff_youngs, y=effective_youngs)\n",
        "plt.show()"
      ]
    },
    {
      "cell_type": "code",
      "source": [
        "predicted_eff_youngs[:10, 0] * scaler + scaler"
      ],
      "metadata": {
        "id": "Dqm7jxQFFX1m",
        "colab": {
          "base_uri": "https://localhost:8080/"
        },
        "outputId": "bd07cc68-d609-40d5-f570-cff439051b57"
      },
      "execution_count": null,
      "outputs": [
        {
          "output_type": "execute_result",
          "data": {
            "text/plain": [
              "<tf.Tensor: shape=(10,), dtype=float32, numpy=\n",
              "array([1742.365 , 1909.9658, 1671.1089, 1816.3948, 1601.3391, 1487.1055,\n",
              "       2240.9666, 1678.0732, 1548.0642, 1744.3226], dtype=float32)>"
            ]
          },
          "metadata": {},
          "execution_count": 24
        }
      ]
    }
  ],
  "metadata": {
    "colab": {
      "collapsed_sections": [],
      "name": "CNN_Homogen.ipynb",
      "provenance": []
    },
    "kernelspec": {
      "display_name": "Python 3",
      "name": "python3"
    },
    "language_info": {
      "name": "python"
    },
    "accelerator": "GPU"
  },
  "nbformat": 4,
  "nbformat_minor": 0
}